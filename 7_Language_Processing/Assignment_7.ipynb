{
 "cells": [
  {
   "cell_type": "code",
   "execution_count": 2,
   "id": "37ccaf73",
   "metadata": {},
   "outputs": [
    {
     "name": "stdout",
     "output_type": "stream",
     "text": [
      "Requirement already satisfied: nltk in c:\\users\\hp\\appdata\\local\\programs\\python\\python310\\lib\\site-packages (3.7)\n",
      "Requirement already satisfied: regex>=2021.8.3 in c:\\users\\hp\\appdata\\local\\programs\\python\\python310\\lib\\site-packages (from nltk) (2022.4.24)\n",
      "Requirement already satisfied: tqdm in c:\\users\\hp\\appdata\\local\\programs\\python\\python310\\lib\\site-packages (from nltk) (4.64.0)\n",
      "Requirement already satisfied: click in c:\\users\\hp\\appdata\\local\\programs\\python\\python310\\lib\\site-packages (from nltk) (8.1.3)\n",
      "Requirement already satisfied: joblib in c:\\users\\hp\\appdata\\local\\programs\\python\\python310\\lib\\site-packages (from nltk) (1.1.0)\n",
      "Requirement already satisfied: colorama in c:\\users\\hp\\appdata\\local\\programs\\python\\python310\\lib\\site-packages (from click->nltk) (0.4.4)\n",
      "Note: you may need to restart the kernel to use updated packages.\n"
     ]
    }
   ],
   "source": [
    "pip install nltk"
   ]
  },
  {
   "cell_type": "code",
   "execution_count": 3,
   "id": "78c6172b",
   "metadata": {},
   "outputs": [
    {
     "name": "stderr",
     "output_type": "stream",
     "text": [
      "[nltk_data] Downloading package punkt to\n",
      "[nltk_data]     C:\\Users\\HP\\AppData\\Roaming\\nltk_data...\n",
      "[nltk_data]   Package punkt is already up-to-date!\n"
     ]
    },
    {
     "data": {
      "text/plain": [
       "True"
      ]
     },
     "execution_count": 3,
     "metadata": {},
     "output_type": "execute_result"
    }
   ],
   "source": [
    "import nltk\n",
    "nltk.download(\"punkt\")"
   ]
  },
  {
   "cell_type": "code",
   "execution_count": 4,
   "id": "aae36ec3",
   "metadata": {},
   "outputs": [],
   "source": [
    "from nltk import tokenize\n",
    "from nltk.tokenize import sent_tokenize"
   ]
  },
  {
   "cell_type": "code",
   "execution_count": 9,
   "id": "9d36ddbc",
   "metadata": {},
   "outputs": [
    {
     "data": {
      "text/plain": [
       "'Good Day Everyone, How are you all today?Its Fun learning Data Analysis. Hope you all are practicing well.'"
      ]
     },
     "execution_count": 9,
     "metadata": {},
     "output_type": "execute_result"
    }
   ],
   "source": [
    "text = \"Good Day Everyone, How are you all today?Its Fun learning Data Analysis. Hope you all are practicing well.\"\n",
    "text"
   ]
  },
  {
   "cell_type": "code",
   "execution_count": 10,
   "id": "3d5c2127",
   "metadata": {},
   "outputs": [
    {
     "data": {
      "text/plain": [
       "['Good Day Everyone, How are you all today?Its Fun learning Data Analysis.',\n",
       " 'Hope you all are practicing well.']"
      ]
     },
     "execution_count": 10,
     "metadata": {},
     "output_type": "execute_result"
    }
   ],
   "source": [
    "tokenized_text = sent_tokenize(text)\n",
    "tokenized_text"
   ]
  },
  {
   "cell_type": "code",
   "execution_count": 15,
   "id": "620fe08a",
   "metadata": {},
   "outputs": [
    {
     "name": "stdout",
     "output_type": "stream",
     "text": [
      "['Good', 'Day', 'Everyone', ',', 'How', 'are', 'you', 'all', 'today', '?', 'Its', 'Fun', 'learning', 'Data', 'Analysis', '.', 'Hope', 'you', 'all', 'are', 'practicing', 'well', '.']\n"
     ]
    }
   ],
   "source": [
    "from nltk.tokenize import word_tokenize\n",
    "tokenized_word = word_tokenize(text)\n",
    "print(tokenized_word)"
   ]
  },
  {
   "cell_type": "code",
   "execution_count": 14,
   "id": "55f1fc7d",
   "metadata": {},
   "outputs": [
    {
     "name": "stdout",
     "output_type": "stream",
     "text": [
      "<FreqDist with 19 samples and 23 outcomes>\n"
     ]
    }
   ],
   "source": [
    "from nltk.probability import FreqDist\n",
    "fdist = FreqDist(tokenized_word)\n",
    "print(fdist)"
   ]
  },
  {
   "cell_type": "code",
   "execution_count": 16,
   "id": "0bb89a8b",
   "metadata": {},
   "outputs": [
    {
     "data": {
      "text/plain": [
       "[('are', 2), ('you', 2), ('all', 2), ('.', 2)]"
      ]
     },
     "execution_count": 16,
     "metadata": {},
     "output_type": "execute_result"
    }
   ],
   "source": [
    "fdist.most_common(4)"
   ]
  },
  {
   "cell_type": "code",
   "execution_count": 20,
   "id": "ebf33e09",
   "metadata": {},
   "outputs": [
    {
     "data": {
      "image/png": "[encoded data removed]",
      "text/plain": [
       "<Figure size 432x288 with 1 Axes>"
      ]
     },
     "metadata": {
      "needs_background": "light"
     },
     "output_type": "display_data"
    }
   ],
   "source": [
    "import matplotlib.pyplot as plt\n",
    "fdist.plot(30, cumulative=False)\n",
    "plt.show()"
   ]
  },
  {
   "cell_type": "code",
   "execution_count": 23,
   "id": "618b398f",
   "metadata": {},
   "outputs": [
    {
     "name": "stderr",
     "output_type": "stream",
     "text": [
      "[nltk_data] Downloading package stopwords to\n",
      "[nltk_data]     C:\\Users\\HP\\AppData\\Roaming\\nltk_data...\n",
      "[nltk_data]   Package stopwords is already up-to-date!\n"
     ]
    },
    {
     "data": {
      "text/plain": [
       "True"
      ]
     },
     "execution_count": 23,
     "metadata": {},
     "output_type": "execute_result"
    }
   ],
   "source": [
    "nltk.download(\"stopwords\")"
   ]
  },
  {
   "cell_type": "code",
   "execution_count": 24,
   "id": "96e1c252",
   "metadata": {},
   "outputs": [
    {
     "name": "stdout",
     "output_type": "stream",
     "text": [
      "{'will', 'were', 'with', 'i', 'themselves', 'be', 'then', 'it', 'not', 'your', 'to', 'herself', 'been', 're', 'below', \"couldn't\", 'was', 'again', 've', 'did', 'theirs', 'before', 'we', 'wouldn', 'doesn', 'all', 'some', \"doesn't\", \"she's\", 'down', \"shan't\", 'didn', \"hasn't\", \"you've\", 'what', 'further', 'than', 's', \"hadn't\", \"mightn't\", 'during', 'why', 'shan', 'hers', 'itself', 'they', 'won', 'in', 'mightn', 'between', 'both', 'its', 'can', 'nor', 'd', 'being', 'myself', 'haven', 'he', \"needn't\", 'shouldn', 'same', 'any', 'when', \"wouldn't\", 'o', 'here', 'just', 'you', 'should', 'am', 'through', 'until', 'yourselves', 'having', 'other', \"didn't\", 'mustn', 'me', \"shouldn't\", \"should've\", \"aren't\", 'my', \"you're\", 'such', \"isn't\", 'that', 'over', 'each', 'do', 'and', 'while', 'more', 'very', 'because', \"that'll\", 'are', 'for', 'don', 'on', 'doing', \"mustn't\", 'who', 'this', 'into', \"won't\", 'hasn', \"it's\", 'as', 'out', 'only', 'our', 'the', 'there', 'weren', 'himself', 'yours', 'their', 'has', 'up', 'isn', 'which', 'at', \"don't\", 'y', 'needn', 'those', \"wasn't\", 'had', 'an', 'most', 't', 'aren', 'after', 'll', 'or', 'whom', 'is', 'how', 'once', 'so', 'own', \"haven't\", 'ma', 'these', 'about', \"weren't\", 'if', 'off', 'ourselves', 'couldn', 'wasn', \"you'd\", 'his', 'of', 'no', 'few', 'ours', 'above', 'a', 'she', 'm', 'where', 'too', 'does', 'by', 'against', 'under', 'ain', 'hadn', 'her', \"you'll\", 'them', 'him', 'have', 'yourself', 'now', 'from', 'but'}\n"
     ]
    }
   ],
   "source": [
    "from nltk.corpus import stopwords\n",
    "stop_words = set(stopwords.words(\"english\"))\n",
    "print(stop_words)"
   ]
  },
  {
   "cell_type": "code",
   "execution_count": 26,
   "id": "f56c368f",
   "metadata": {},
   "outputs": [
    {
     "name": "stdout",
     "output_type": "stream",
     "text": [
      "Tokenized Sentence:  ['Good', 'Day', 'Everyone', ',', 'How', 'are', 'you', 'all', 'today', '?', 'Its', 'Fun', 'learning', 'Data', 'Analysis', '.', 'Hope', 'you', 'all', 'are', 'practicing', 'well', '.']\n",
      "Filtered Sentence:  ['Good', 'Day', 'Everyone', ',', 'How', 'today', '?', 'Its', 'Fun', 'learning', 'Data', 'Analysis', '.', 'Hope', 'practicing', 'well', '.']\n"
     ]
    }
   ],
   "source": [
    "filtered_sent = []\n",
    "for w in tokenized_word:\n",
    "    if w not in stop_words:\n",
    "        filtered_sent.append(w)\n",
    "print(\"Tokenized Sentence: \", tokenized_word)\n",
    "print(\"Filtered Sentence: \", filtered_sent)"
   ]
  },
  {
   "cell_type": "code",
   "execution_count": 27,
   "id": "09898259",
   "metadata": {},
   "outputs": [
    {
     "name": "stdout",
     "output_type": "stream",
     "text": [
      "Filtered Sentence:  ['Good', 'Day', 'Everyone', ',', 'How', 'today', '?', 'Its', 'Fun', 'learning', 'Data', 'Analysis', '.', 'Hope', 'practicing', 'well', '.']\n",
      "Stemmed Sentence:  ['good', 'day', 'everyon', ',', 'how', 'today', '?', 'it', 'fun', 'learn', 'data', 'analysi', '.', 'hope', 'practic', 'well', '.']\n"
     ]
    }
   ],
   "source": [
    "from nltk.stem import PorterStemmer\n",
    "from nltk.tokenize import sent_tokenize, word_tokenize\n",
    "ps = PorterStemmer()\n",
    "stemmed_words = []\n",
    "for w in filtered_sent:\n",
    "    stemmed_words.append(ps.stem(w))\n",
    "print(\"Filtered Sentence: \", filtered_sent)\n",
    "print(\"Stemmed Sentence: \", stemmed_words)"
   ]
  },
  {
   "cell_type": "code",
   "execution_count": 28,
   "id": "0e40e8d4",
   "metadata": {},
   "outputs": [
    {
     "name": "stderr",
     "output_type": "stream",
     "text": [
      "[nltk_data] Downloading package wordnet to\n",
      "[nltk_data]     C:\\Users\\HP\\AppData\\Roaming\\nltk_data...\n",
      "[nltk_data]   Package wordnet is already up-to-date!\n"
     ]
    },
    {
     "data": {
      "text/plain": [
       "True"
      ]
     },
     "execution_count": 28,
     "metadata": {},
     "output_type": "execute_result"
    }
   ],
   "source": [
    "nltk.download(\"wordnet\")"
   ]
  },
  {
   "cell_type": "code",
   "execution_count": 29,
   "id": "97bb82ba",
   "metadata": {},
   "outputs": [
    {
     "name": "stdout",
     "output_type": "stream",
     "text": [
      "Lemmatized Word:  better\n",
      "Stemmed Word:  better\n"
     ]
    }
   ],
   "source": [
    "from nltk.stem.wordnet import WordNetLemmatizer\n",
    "lem = WordNetLemmatizer()\n",
    "from nltk.stem.porter import PorterStemmer\n",
    "stem = PorterStemmer()\n",
    "word = \"better\"\n",
    "print(\"Lemmatized Word: \", lem.lemmatize(word, \"v\"))\n",
    "print(\"Stemmed Word: \", stem.stem(word))"
   ]
  },
  {
   "cell_type": "code",
   "execution_count": 31,
   "id": "7c396c49",
   "metadata": {},
   "outputs": [
    {
     "name": "stdout",
     "output_type": "stream",
     "text": [
      "['Albert', 'Einstein', 'was', 'born', 'in', 'Ulm', ',', 'Germany', 'in', '1979', '.']\n"
     ]
    }
   ],
   "source": [
    "sent = \"Albert Einstein was born in Ulm, Germany in 1979.\"\n",
    "tokens = nltk.word_tokenize(sent)\n",
    "print(tokens)"
   ]
  },
  {
   "cell_type": "code",
   "execution_count": 36,
   "id": "07470fd5",
   "metadata": {},
   "outputs": [
    {
     "name": "stderr",
     "output_type": "stream",
     "text": [
      "[nltk_data] Downloading package averaged_perceptron_tagger to\n",
      "[nltk_data]     C:\\Users\\HP\\AppData\\Roaming\\nltk_data...\n",
      "[nltk_data]   Package averaged_perceptron_tagger is already up-to-\n",
      "[nltk_data]       date!\n"
     ]
    },
    {
     "data": {
      "text/plain": [
       "True"
      ]
     },
     "execution_count": 36,
     "metadata": {},
     "output_type": "execute_result"
    }
   ],
   "source": [
    "nltk.download('averaged_perceptron_tagger')"
   ]
  },
  {
   "cell_type": "code",
   "execution_count": 37,
   "id": "279b3346",
   "metadata": {},
   "outputs": [
    {
     "data": {
      "text/plain": [
       "[('Albert', 'NNP'),\n",
       " ('Einstein', 'NNP'),\n",
       " ('was', 'VBD'),\n",
       " ('born', 'VBN'),\n",
       " ('in', 'IN'),\n",
       " ('Ulm', 'NNP'),\n",
       " (',', ','),\n",
       " ('Germany', 'NNP'),\n",
       " ('in', 'IN'),\n",
       " ('1979', 'CD'),\n",
       " ('.', '.')]"
      ]
     },
     "execution_count": 37,
     "metadata": {},
     "output_type": "execute_result"
    }
   ],
   "source": [
    "nltk.pos_tag(tokens)"
   ]
  }
 ],
 "metadata": {
  "kernelspec": {
   "display_name": "Python 3 (ipykernel)",
   "language": "python",
   "name": "python3"
  },
  "language_info": {
   "codemirror_mode": {
    "name": "ipython",
    "version": 3
   },
   "file_extension": ".py",
   "mimetype": "text/x-python",
   "name": "python",
   "nbconvert_exporter": "python",
   "pygments_lexer": "ipython3",
   "version": "3.10.4"
  }
 },
 "nbformat": 4,
 "nbformat_minor": 5
}
